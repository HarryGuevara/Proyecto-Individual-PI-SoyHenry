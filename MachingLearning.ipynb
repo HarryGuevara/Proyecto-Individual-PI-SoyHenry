{
 "cells": [
  {
   "cell_type": "code",
   "execution_count": 1,
   "metadata": {},
   "outputs": [
    {
     "name": "stderr",
     "output_type": "stream",
     "text": [
      "C:\\Users\\Usuario\\AppData\\Local\\Temp\\ipykernel_11080\\3151750402.py:4: DtypeWarning: Columns (5) have mixed types. Specify dtype option on import or set low_memory=False.\n",
      "  movie_dataset_cleaned = pd.read_csv('D:/SOYHENRY_PI_1/fastapi_project/movie_dataset_cleaned.csv')\n",
      "C:\\Users\\Usuario\\AppData\\Local\\Temp\\ipykernel_11080\\3151750402.py:7: DtypeWarning: Columns (9,10,13,14,15) have mixed types. Specify dtype option on import or set low_memory=False.\n",
      "  df_unido = pd.read_csv('D:/SOYHENRY_PI_1/fastapi_project/df_unido.csv')\n"
     ]
    }
   ],
   "source": [
    "import pandas as pd\n",
    "\n",
    "# Cargar el dataset de películas\n",
    "movie_dataset_cleaned = pd.read_csv('D:/SOYHENRY_PI_1/fastapi_project/movie_dataset_cleaned.csv')\n",
    "\n",
    "# Cargar el dataset con información del reparto y equipo de producción\n",
    "df_unido = pd.read_csv('D:/SOYHENRY_PI_1/fastapi_project/df_unido.csv')\n"
   ]
  },
  {
   "cell_type": "code",
   "execution_count": 2,
   "metadata": {},
   "outputs": [
    {
     "name": "stdout",
     "output_type": "stream",
     "text": [
      "       budget                                             genres     id  \\\n",
      "0  30000000.0  [{'id': 16, 'name': 'Animation'}, {'id': 35, '...    862   \n",
      "1  65000000.0  [{'id': 12, 'name': 'Adventure'}, {'id': 14, '...   8844   \n",
      "2         0.0  [{'id': 10749, 'name': 'Romance'}, {'id': 35, ...  15602   \n",
      "3  16000000.0  [{'id': 35, 'name': 'Comedy'}, {'id': 18, 'nam...  31357   \n",
      "4         0.0                     [{'id': 35, 'name': 'Comedy'}]  11862   \n",
      "\n",
      "  original_language                                           overview  \\\n",
      "0                en  Led by Woody, Andy's toys live happily in his ...   \n",
      "1                en  When siblings Judy and Peter discover an encha...   \n",
      "2                en  A family wedding reignites the ancient feud be...   \n",
      "3                en  Cheated on, mistreated and stepped on, the wom...   \n",
      "4                en  Just when George Banks has recovered from his ...   \n",
      "\n",
      "  popularity                               production_companies  \\\n",
      "0  21.946943     [{'name': 'Pixar Animation Studios', 'id': 3}]   \n",
      "1  17.015539  [{'name': 'TriStar Pictures', 'id': 559}, {'na...   \n",
      "2    11.7129  [{'name': 'Warner Bros.', 'id': 6194}, {'name'...   \n",
      "3   3.859495  [{'name': 'Twentieth Century Fox Film Corporat...   \n",
      "4   8.387519  [{'name': 'Sandollar Productions', 'id': 5842}...   \n",
      "\n",
      "                                production_countries release_date  \\\n",
      "0  [{'iso_3166_1': 'US', 'name': 'United States o...   1995-10-30   \n",
      "1  [{'iso_3166_1': 'US', 'name': 'United States o...   1995-12-15   \n",
      "2  [{'iso_3166_1': 'US', 'name': 'United States o...   1995-12-22   \n",
      "3  [{'iso_3166_1': 'US', 'name': 'United States o...   1995-12-22   \n",
      "4  [{'iso_3166_1': 'US', 'name': 'United States o...   1995-02-10   \n",
      "\n",
      "       revenue  ...  vote_average vote_count collection_id  \\\n",
      "0  373554033.0  ...           7.7     5415.0       10194.0   \n",
      "1  262797249.0  ...           6.9     2413.0           NaN   \n",
      "2          0.0  ...           6.5       92.0      119050.0   \n",
      "3   81452156.0  ...           6.1       34.0           NaN   \n",
      "4   76578911.0  ...           5.7      173.0       96871.0   \n",
      "\n",
      "                  collection_name                 collection_poster  \\\n",
      "0            Toy Story Collection  /7G9915LfUQ2lVfwMEEhDsn3kT4B.jpg   \n",
      "1                             NaN                               NaN   \n",
      "2       Grumpy Old Men Collection  /nLvUdqgPgm3F85NMCii9gVFUcet.jpg   \n",
      "3                             NaN                               NaN   \n",
      "4  Father of the Bride Collection  /nts4iOmNnq7GNicycMJ9pSAn204.jpg   \n",
      "\n",
      "                collection_backdrop  \\\n",
      "0  /9FBwqcd9IRruEDUrTdcaafOMKUq.jpg   \n",
      "1                               NaN   \n",
      "2  /hypTnLot2z8wpFS7qwsQHW1uV8u.jpg   \n",
      "3                               NaN   \n",
      "4  /7qwE57OVZmMJChBpLEbJEmzUydk.jpg   \n",
      "\n",
      "                                       company_names         company_ids  \\\n",
      "0                        ['Pixar Animation Studios']                 [3]   \n",
      "1  ['TriStar Pictures', 'Teitler Film', 'Intersco...  [559, 2550, 10201]   \n",
      "2                 ['Warner Bros.', 'Lancaster Gate']       [6194, 19464]   \n",
      "3         ['Twentieth Century Fox Film Corporation']               [306]   \n",
      "4   ['Sandollar Productions', 'Touchstone Pictures']        [5842, 9195]   \n",
      "\n",
      "  release_year     return  \n",
      "0         1995  12.451801  \n",
      "1         1995   4.043035  \n",
      "2         1995   0.000000  \n",
      "3         1995   5.090760  \n",
      "4         1995   0.000000  \n",
      "\n",
      "[5 rows x 25 columns]\n"
     ]
    }
   ],
   "source": [
    "# Echa un vistazo a las primeras filas de ambos DataFrames\n",
    "print(movie_dataset_cleaned.head())"
   ]
  },
  {
   "cell_type": "code",
   "execution_count": 3,
   "metadata": {},
   "outputs": [
    {
     "name": "stdout",
     "output_type": "stream",
     "text": [
      "        id  cast_id                character                 credit_id  \\\n",
      "0    862.0     14.0            Woody (voice)  52fe4284c3a36847f8024f95   \n",
      "1   8844.0     15.0   Buzz Lightyear (voice)  52fe4284c3a36847f8024f99   \n",
      "2  15602.0     16.0  Mr. Potato Head (voice)  52fe4284c3a36847f8024f9d   \n",
      "3  31357.0     17.0       Slinky Dog (voice)  52fe4284c3a36847f8024fa1   \n",
      "4  11862.0     18.0              Rex (voice)  52fe4284c3a36847f8024fa5   \n",
      "\n",
      "   gender     id.1           name  order                      profile_path  \\\n",
      "0     2.0     31.0      Tom Hanks    0.0  /pQFoyx7rp09CJTAb932F2g8Nlho.jpg   \n",
      "1     2.0  12898.0      Tim Allen    1.0  /uX2xVf6pMmPepxnvFWyBtjexzgY.jpg   \n",
      "2     2.0   7167.0    Don Rickles    2.0  /h5BcaDMPRVLHLDzbQavec4xfSdt.jpg   \n",
      "3     2.0  12899.0     Jim Varney    3.0  /eIo2jVVXYgjDtaHoF19Ll9vtW7h.jpg   \n",
      "4     2.0  12900.0  Wallace Shawn    4.0  /oGE6JqPP2xH4tNORKNqxbNPYi7u.jpg   \n",
      "\n",
      "                credit_id.1 department  gender.1     id.2         job  \\\n",
      "0  52fe4284c3a36847f8024f49  Directing       2.0   7879.0    Director   \n",
      "1  52fe4284c3a36847f8024f4f    Writing       2.0  12891.0  Screenplay   \n",
      "2  52fe4284c3a36847f8024f55    Writing       2.0      7.0  Screenplay   \n",
      "3  52fe4284c3a36847f8024f5b    Writing       2.0  12892.0  Screenplay   \n",
      "4  52fe4284c3a36847f8024f61    Writing       0.0  12893.0  Screenplay   \n",
      "\n",
      "           name.1                    profile_path.1  \n",
      "0   John Lasseter  /7EdqiNbr4FRjIhKHyPPdFfEEEFG.jpg  \n",
      "1     Joss Whedon  /dTiVsuaTVTeGmvkhcyJvKp2A5kr.jpg  \n",
      "2  Andrew Stanton  /pvQWsu0qc8JFQhMVJkTHuexUAa1.jpg  \n",
      "3      Joel Cohen  /dAubAiZcvKFbboWlj7oXOkZnTSu.jpg  \n",
      "4    Alec Sokolow  /v79vlRYi94BZUQnkkyznbGUZLjT.jpg  \n"
     ]
    }
   ],
   "source": [
    "# Echa un vistazo a las primeras filas de ambos DataFrames\n",
    "print(df_unido.head())\n"
   ]
  }
 ],
 "metadata": {
  "kernelspec": {
   "display_name": "Python 3",
   "language": "python",
   "name": "python3"
  },
  "language_info": {
   "codemirror_mode": {
    "name": "ipython",
    "version": 3
   },
   "file_extension": ".py",
   "mimetype": "text/x-python",
   "name": "python",
   "nbconvert_exporter": "python",
   "pygments_lexer": "ipython3",
   "version": "3.12.6"
  }
 },
 "nbformat": 4,
 "nbformat_minor": 2
}
